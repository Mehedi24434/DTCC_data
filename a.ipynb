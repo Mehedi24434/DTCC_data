{
 "cells": [
  {
   "cell_type": "code",
   "execution_count": 1,
   "metadata": {},
   "outputs": [],
   "source": [
    "import os"
   ]
  },
  {
   "cell_type": "code",
   "execution_count": 2,
   "metadata": {},
   "outputs": [],
   "source": [
    "download_folder = \"/home/mehedi/Documents/docker_influxdb/DTCC_data/downloaded_files\"  \n",
    "extract_folder = \"/home/mehedi/Documents/docker_influxdb/DTCC_data/extracted_files\""
   ]
  },
  {
   "cell_type": "code",
   "execution_count": 2,
   "metadata": {},
   "outputs": [],
   "source": [
    "import function as f"
   ]
  },
  {
   "cell_type": "code",
   "execution_count": 4,
   "metadata": {},
   "outputs": [],
   "source": [
    "assets = ['Commodities', 'Credits', 'Rates', 'Equities', 'Forex']"
   ]
  },
  {
   "cell_type": "code",
   "execution_count": 5,
   "metadata": {},
   "outputs": [
    {
     "name": "stdout",
     "output_type": "stream",
     "text": [
      "Downloaded: CFTC_CUMULATIVE_COMMODITIES_2023_08_15.zip\n",
      "Extracted: CFTC_CUMULATIVE_COMMODITIES_2023_08_15.zip to /home/mehedi/Documents/docker_influxdb/DTCC_data/extracted_files/Commodities\n",
      "Downloaded: CFTC_CUMULATIVE_COMMODITIES_2023_08_14.zip\n",
      "Extracted: CFTC_CUMULATIVE_COMMODITIES_2023_08_14.zip to /home/mehedi/Documents/docker_influxdb/DTCC_data/extracted_files/Commodities\n",
      "Downloaded: CFTC_CUMULATIVE_COMMODITIES_2023_08_13.zip\n",
      "Extracted: CFTC_CUMULATIVE_COMMODITIES_2023_08_13.zip to /home/mehedi/Documents/docker_influxdb/DTCC_data/extracted_files/Commodities\n",
      "Downloaded: CFTC_CUMULATIVE_COMMODITIES_2023_08_12.zip\n",
      "Extracted: CFTC_CUMULATIVE_COMMODITIES_2023_08_12.zip to /home/mehedi/Documents/docker_influxdb/DTCC_data/extracted_files/Commodities\n",
      "Downloaded: CFTC_CUMULATIVE_COMMODITIES_2023_08_11.zip\n",
      "Extracted: CFTC_CUMULATIVE_COMMODITIES_2023_08_11.zip to /home/mehedi/Documents/docker_influxdb/DTCC_data/extracted_files/Commodities\n",
      "Downloaded: CFTC_CUMULATIVE_COMMODITIES_2023_08_10.zip\n",
      "Extracted: CFTC_CUMULATIVE_COMMODITIES_2023_08_10.zip to /home/mehedi/Documents/docker_influxdb/DTCC_data/extracted_files/Commodities\n",
      "Downloaded: CFTC_CUMULATIVE_COMMODITIES_2023_08_09.zip\n",
      "Extracted: CFTC_CUMULATIVE_COMMODITIES_2023_08_09.zip to /home/mehedi/Documents/docker_influxdb/DTCC_data/extracted_files/Commodities\n",
      "Downloaded: CFTC_CUMULATIVE_COMMODITIES_2023_08_08.zip\n",
      "Extracted: CFTC_CUMULATIVE_COMMODITIES_2023_08_08.zip to /home/mehedi/Documents/docker_influxdb/DTCC_data/extracted_files/Commodities\n",
      "Downloaded: CFTC_CUMULATIVE_COMMODITIES_2023_08_07.zip\n",
      "Extracted: CFTC_CUMULATIVE_COMMODITIES_2023_08_07.zip to /home/mehedi/Documents/docker_influxdb/DTCC_data/extracted_files/Commodities\n",
      "Downloaded: CFTC_CUMULATIVE_COMMODITIES_2023_08_06.zip\n",
      "Extracted: CFTC_CUMULATIVE_COMMODITIES_2023_08_06.zip to /home/mehedi/Documents/docker_influxdb/DTCC_data/extracted_files/Commodities\n",
      "Downloaded: CFTC_CUMULATIVE_COMMODITIES_2023_08_05.zip\n",
      "Extracted: CFTC_CUMULATIVE_COMMODITIES_2023_08_05.zip to /home/mehedi/Documents/docker_influxdb/DTCC_data/extracted_files/Commodities\n",
      "Downloaded: CFTC_CUMULATIVE_COMMODITIES_2023_08_04.zip\n",
      "Extracted: CFTC_CUMULATIVE_COMMODITIES_2023_08_04.zip to /home/mehedi/Documents/docker_influxdb/DTCC_data/extracted_files/Commodities\n",
      "Downloaded: CFTC_CUMULATIVE_COMMODITIES_2023_08_03.zip\n",
      "Extracted: CFTC_CUMULATIVE_COMMODITIES_2023_08_03.zip to /home/mehedi/Documents/docker_influxdb/DTCC_data/extracted_files/Commodities\n",
      "Downloaded: CFTC_CUMULATIVE_COMMODITIES_2023_08_02.zip\n",
      "Extracted: CFTC_CUMULATIVE_COMMODITIES_2023_08_02.zip to /home/mehedi/Documents/docker_influxdb/DTCC_data/extracted_files/Commodities\n",
      "Downloaded: CFTC_CUMULATIVE_COMMODITIES_2023_08_01.zip\n",
      "Extracted: CFTC_CUMULATIVE_COMMODITIES_2023_08_01.zip to /home/mehedi/Documents/docker_influxdb/DTCC_data/extracted_files/Commodities\n",
      "Downloaded: CFTC_CUMULATIVE_COMMODITIES_2023_07_31.zip\n",
      "Extracted: CFTC_CUMULATIVE_COMMODITIES_2023_07_31.zip to /home/mehedi/Documents/docker_influxdb/DTCC_data/extracted_files/Commodities\n",
      "Downloaded: CFTC_CUMULATIVE_COMMODITIES_2023_07_30.zip\n",
      "Extracted: CFTC_CUMULATIVE_COMMODITIES_2023_07_30.zip to /home/mehedi/Documents/docker_influxdb/DTCC_data/extracted_files/Commodities\n",
      "Downloaded: CFTC_CUMULATIVE_COMMODITIES_2023_07_29.zip\n",
      "Extracted: CFTC_CUMULATIVE_COMMODITIES_2023_07_29.zip to /home/mehedi/Documents/docker_influxdb/DTCC_data/extracted_files/Commodities\n",
      "Downloaded: CFTC_CUMULATIVE_COMMODITIES_2023_07_28.zip\n",
      "Extracted: CFTC_CUMULATIVE_COMMODITIES_2023_07_28.zip to /home/mehedi/Documents/docker_influxdb/DTCC_data/extracted_files/Commodities\n",
      "Downloaded: CFTC_CUMULATIVE_COMMODITIES_2023_07_27.zip\n",
      "Extracted: CFTC_CUMULATIVE_COMMODITIES_2023_07_27.zip to /home/mehedi/Documents/docker_influxdb/DTCC_data/extracted_files/Commodities\n",
      "Downloaded: CFTC_CUMULATIVE_COMMODITIES_2023_07_26.zip\n",
      "Extracted: CFTC_CUMULATIVE_COMMODITIES_2023_07_26.zip to /home/mehedi/Documents/docker_influxdb/DTCC_data/extracted_files/Commodities\n",
      "Downloaded: CFTC_CUMULATIVE_COMMODITIES_2023_07_25.zip\n",
      "Extracted: CFTC_CUMULATIVE_COMMODITIES_2023_07_25.zip to /home/mehedi/Documents/docker_influxdb/DTCC_data/extracted_files/Commodities\n",
      "Downloaded: CFTC_CUMULATIVE_COMMODITIES_2023_07_24.zip\n",
      "Extracted: CFTC_CUMULATIVE_COMMODITIES_2023_07_24.zip to /home/mehedi/Documents/docker_influxdb/DTCC_data/extracted_files/Commodities\n",
      "Downloaded: CFTC_CUMULATIVE_COMMODITIES_2023_07_23.zip\n",
      "Extracted: CFTC_CUMULATIVE_COMMODITIES_2023_07_23.zip to /home/mehedi/Documents/docker_influxdb/DTCC_data/extracted_files/Commodities\n",
      "Downloaded: CFTC_CUMULATIVE_COMMODITIES_2023_07_22.zip\n",
      "Extracted: CFTC_CUMULATIVE_COMMODITIES_2023_07_22.zip to /home/mehedi/Documents/docker_influxdb/DTCC_data/extracted_files/Commodities\n",
      "Downloaded: CFTC_CUMULATIVE_COMMODITIES_2023_07_21.zip\n",
      "Extracted: CFTC_CUMULATIVE_COMMODITIES_2023_07_21.zip to /home/mehedi/Documents/docker_influxdb/DTCC_data/extracted_files/Commodities\n",
      "Downloaded: CFTC_CUMULATIVE_COMMODITIES_2023_07_20.zip\n",
      "Extracted: CFTC_CUMULATIVE_COMMODITIES_2023_07_20.zip to /home/mehedi/Documents/docker_influxdb/DTCC_data/extracted_files/Commodities\n",
      "Downloaded: CFTC_CUMULATIVE_COMMODITIES_2023_07_19.zip\n",
      "Extracted: CFTC_CUMULATIVE_COMMODITIES_2023_07_19.zip to /home/mehedi/Documents/docker_influxdb/DTCC_data/extracted_files/Commodities\n",
      "Downloaded: CFTC_CUMULATIVE_COMMODITIES_2023_07_18.zip\n",
      "Extracted: CFTC_CUMULATIVE_COMMODITIES_2023_07_18.zip to /home/mehedi/Documents/docker_influxdb/DTCC_data/extracted_files/Commodities\n",
      "Downloaded: CFTC_CUMULATIVE_COMMODITIES_2023_07_17.zip\n",
      "Extracted: CFTC_CUMULATIVE_COMMODITIES_2023_07_17.zip to /home/mehedi/Documents/docker_influxdb/DTCC_data/extracted_files/Commodities\n",
      "No more new files available for Commodities. Exiting loop.\n",
      "Downloaded: CFTC_CUMULATIVE_CREDITS_2023_08_15.zip\n",
      "Extracted: CFTC_CUMULATIVE_CREDITS_2023_08_15.zip to /home/mehedi/Documents/docker_influxdb/DTCC_data/extracted_files/Credits\n",
      "Downloaded: CFTC_CUMULATIVE_CREDITS_2023_08_14.zip\n",
      "Extracted: CFTC_CUMULATIVE_CREDITS_2023_08_14.zip to /home/mehedi/Documents/docker_influxdb/DTCC_data/extracted_files/Credits\n",
      "Downloaded: CFTC_CUMULATIVE_CREDITS_2023_08_11.zip\n",
      "Extracted: CFTC_CUMULATIVE_CREDITS_2023_08_11.zip to /home/mehedi/Documents/docker_influxdb/DTCC_data/extracted_files/Credits\n",
      "Downloaded: CFTC_CUMULATIVE_CREDITS_2023_08_10.zip\n",
      "Extracted: CFTC_CUMULATIVE_CREDITS_2023_08_10.zip to /home/mehedi/Documents/docker_influxdb/DTCC_data/extracted_files/Credits\n",
      "Downloaded: CFTC_CUMULATIVE_CREDITS_2023_08_09.zip\n",
      "Extracted: CFTC_CUMULATIVE_CREDITS_2023_08_09.zip to /home/mehedi/Documents/docker_influxdb/DTCC_data/extracted_files/Credits\n",
      "Downloaded: CFTC_CUMULATIVE_CREDITS_2023_08_08.zip\n",
      "Extracted: CFTC_CUMULATIVE_CREDITS_2023_08_08.zip to /home/mehedi/Documents/docker_influxdb/DTCC_data/extracted_files/Credits\n",
      "Downloaded: CFTC_CUMULATIVE_CREDITS_2023_08_07.zip\n",
      "Extracted: CFTC_CUMULATIVE_CREDITS_2023_08_07.zip to /home/mehedi/Documents/docker_influxdb/DTCC_data/extracted_files/Credits\n",
      "Downloaded: CFTC_CUMULATIVE_CREDITS_2023_08_04.zip\n",
      "Extracted: CFTC_CUMULATIVE_CREDITS_2023_08_04.zip to /home/mehedi/Documents/docker_influxdb/DTCC_data/extracted_files/Credits\n",
      "Downloaded: CFTC_CUMULATIVE_CREDITS_2023_08_03.zip\n",
      "Extracted: CFTC_CUMULATIVE_CREDITS_2023_08_03.zip to /home/mehedi/Documents/docker_influxdb/DTCC_data/extracted_files/Credits\n",
      "Downloaded: CFTC_CUMULATIVE_CREDITS_2023_08_02.zip\n",
      "Extracted: CFTC_CUMULATIVE_CREDITS_2023_08_02.zip to /home/mehedi/Documents/docker_influxdb/DTCC_data/extracted_files/Credits\n",
      "Downloaded: CFTC_CUMULATIVE_CREDITS_2023_08_01.zip\n",
      "Extracted: CFTC_CUMULATIVE_CREDITS_2023_08_01.zip to /home/mehedi/Documents/docker_influxdb/DTCC_data/extracted_files/Credits\n",
      "Downloaded: CFTC_CUMULATIVE_CREDITS_2023_07_31.zip\n",
      "Extracted: CFTC_CUMULATIVE_CREDITS_2023_07_31.zip to /home/mehedi/Documents/docker_influxdb/DTCC_data/extracted_files/Credits\n",
      "Downloaded: CFTC_CUMULATIVE_CREDITS_2023_07_30.zip\n",
      "Extracted: CFTC_CUMULATIVE_CREDITS_2023_07_30.zip to /home/mehedi/Documents/docker_influxdb/DTCC_data/extracted_files/Credits\n",
      "Downloaded: CFTC_CUMULATIVE_CREDITS_2023_07_28.zip\n",
      "Extracted: CFTC_CUMULATIVE_CREDITS_2023_07_28.zip to /home/mehedi/Documents/docker_influxdb/DTCC_data/extracted_files/Credits\n",
      "Downloaded: CFTC_CUMULATIVE_CREDITS_2023_07_27.zip\n",
      "Extracted: CFTC_CUMULATIVE_CREDITS_2023_07_27.zip to /home/mehedi/Documents/docker_influxdb/DTCC_data/extracted_files/Credits\n",
      "Downloaded: CFTC_CUMULATIVE_CREDITS_2023_07_26.zip\n",
      "Extracted: CFTC_CUMULATIVE_CREDITS_2023_07_26.zip to /home/mehedi/Documents/docker_influxdb/DTCC_data/extracted_files/Credits\n",
      "Downloaded: CFTC_CUMULATIVE_CREDITS_2023_07_25.zip\n",
      "Extracted: CFTC_CUMULATIVE_CREDITS_2023_07_25.zip to /home/mehedi/Documents/docker_influxdb/DTCC_data/extracted_files/Credits\n",
      "Downloaded: CFTC_CUMULATIVE_CREDITS_2023_07_24.zip\n",
      "Extracted: CFTC_CUMULATIVE_CREDITS_2023_07_24.zip to /home/mehedi/Documents/docker_influxdb/DTCC_data/extracted_files/Credits\n",
      "Downloaded: CFTC_CUMULATIVE_CREDITS_2023_07_21.zip\n",
      "Extracted: CFTC_CUMULATIVE_CREDITS_2023_07_21.zip to /home/mehedi/Documents/docker_influxdb/DTCC_data/extracted_files/Credits\n",
      "Downloaded: CFTC_CUMULATIVE_CREDITS_2023_07_20.zip\n",
      "Extracted: CFTC_CUMULATIVE_CREDITS_2023_07_20.zip to /home/mehedi/Documents/docker_influxdb/DTCC_data/extracted_files/Credits\n",
      "Downloaded: CFTC_CUMULATIVE_CREDITS_2023_07_19.zip\n",
      "Extracted: CFTC_CUMULATIVE_CREDITS_2023_07_19.zip to /home/mehedi/Documents/docker_influxdb/DTCC_data/extracted_files/Credits\n",
      "Downloaded: CFTC_CUMULATIVE_CREDITS_2023_07_18.zip\n",
      "Extracted: CFTC_CUMULATIVE_CREDITS_2023_07_18.zip to /home/mehedi/Documents/docker_influxdb/DTCC_data/extracted_files/Credits\n",
      "Downloaded: CFTC_CUMULATIVE_CREDITS_2023_07_17.zip\n",
      "Extracted: CFTC_CUMULATIVE_CREDITS_2023_07_17.zip to /home/mehedi/Documents/docker_influxdb/DTCC_data/extracted_files/Credits\n",
      "No more new files available for Credits. Exiting loop.\n",
      "Downloaded: CFTC_CUMULATIVE_RATES_2023_08_15.zip\n",
      "Extracted: CFTC_CUMULATIVE_RATES_2023_08_15.zip to /home/mehedi/Documents/docker_influxdb/DTCC_data/extracted_files/Rates\n",
      "Downloaded: CFTC_CUMULATIVE_RATES_2023_08_14.zip\n",
      "Extracted: CFTC_CUMULATIVE_RATES_2023_08_14.zip to /home/mehedi/Documents/docker_influxdb/DTCC_data/extracted_files/Rates\n",
      "Downloaded: CFTC_CUMULATIVE_RATES_2023_08_13.zip\n",
      "Extracted: CFTC_CUMULATIVE_RATES_2023_08_13.zip to /home/mehedi/Documents/docker_influxdb/DTCC_data/extracted_files/Rates\n",
      "Downloaded: CFTC_CUMULATIVE_RATES_2023_08_12.zip\n",
      "Extracted: CFTC_CUMULATIVE_RATES_2023_08_12.zip to /home/mehedi/Documents/docker_influxdb/DTCC_data/extracted_files/Rates\n",
      "Downloaded: CFTC_CUMULATIVE_RATES_2023_08_11.zip\n",
      "Extracted: CFTC_CUMULATIVE_RATES_2023_08_11.zip to /home/mehedi/Documents/docker_influxdb/DTCC_data/extracted_files/Rates\n",
      "Downloaded: CFTC_CUMULATIVE_RATES_2023_08_10.zip\n",
      "Extracted: CFTC_CUMULATIVE_RATES_2023_08_10.zip to /home/mehedi/Documents/docker_influxdb/DTCC_data/extracted_files/Rates\n",
      "Downloaded: CFTC_CUMULATIVE_RATES_2023_08_09.zip\n",
      "Extracted: CFTC_CUMULATIVE_RATES_2023_08_09.zip to /home/mehedi/Documents/docker_influxdb/DTCC_data/extracted_files/Rates\n",
      "Downloaded: CFTC_CUMULATIVE_RATES_2023_08_08.zip\n",
      "Extracted: CFTC_CUMULATIVE_RATES_2023_08_08.zip to /home/mehedi/Documents/docker_influxdb/DTCC_data/extracted_files/Rates\n",
      "Downloaded: CFTC_CUMULATIVE_RATES_2023_08_07.zip\n",
      "Extracted: CFTC_CUMULATIVE_RATES_2023_08_07.zip to /home/mehedi/Documents/docker_influxdb/DTCC_data/extracted_files/Rates\n",
      "Downloaded: CFTC_CUMULATIVE_RATES_2023_08_06.zip\n",
      "Extracted: CFTC_CUMULATIVE_RATES_2023_08_06.zip to /home/mehedi/Documents/docker_influxdb/DTCC_data/extracted_files/Rates\n",
      "No more new files available for Rates. Exiting loop.\n",
      "Downloaded: CFTC_CUMULATIVE_EQUITIES_2023_08_15.zip\n",
      "Extracted: CFTC_CUMULATIVE_EQUITIES_2023_08_15.zip to /home/mehedi/Documents/docker_influxdb/DTCC_data/extracted_files/Equities\n",
      "Downloaded: CFTC_CUMULATIVE_EQUITIES_2023_08_14.zip\n",
      "Extracted: CFTC_CUMULATIVE_EQUITIES_2023_08_14.zip to /home/mehedi/Documents/docker_influxdb/DTCC_data/extracted_files/Equities\n",
      "Downloaded: CFTC_CUMULATIVE_EQUITIES_2023_08_13.zip\n",
      "Extracted: CFTC_CUMULATIVE_EQUITIES_2023_08_13.zip to /home/mehedi/Documents/docker_influxdb/DTCC_data/extracted_files/Equities\n",
      "Downloaded: CFTC_CUMULATIVE_EQUITIES_2023_08_12.zip\n",
      "Extracted: CFTC_CUMULATIVE_EQUITIES_2023_08_12.zip to /home/mehedi/Documents/docker_influxdb/DTCC_data/extracted_files/Equities\n",
      "Downloaded: CFTC_CUMULATIVE_EQUITIES_2023_08_11.zip\n",
      "Extracted: CFTC_CUMULATIVE_EQUITIES_2023_08_11.zip to /home/mehedi/Documents/docker_influxdb/DTCC_data/extracted_files/Equities\n",
      "Downloaded: CFTC_CUMULATIVE_EQUITIES_2023_08_10.zip\n",
      "Extracted: CFTC_CUMULATIVE_EQUITIES_2023_08_10.zip to /home/mehedi/Documents/docker_influxdb/DTCC_data/extracted_files/Equities\n",
      "Downloaded: CFTC_CUMULATIVE_EQUITIES_2023_08_09.zip\n",
      "Extracted: CFTC_CUMULATIVE_EQUITIES_2023_08_09.zip to /home/mehedi/Documents/docker_influxdb/DTCC_data/extracted_files/Equities\n",
      "Downloaded: CFTC_CUMULATIVE_EQUITIES_2023_08_08.zip\n",
      "Extracted: CFTC_CUMULATIVE_EQUITIES_2023_08_08.zip to /home/mehedi/Documents/docker_influxdb/DTCC_data/extracted_files/Equities\n",
      "Downloaded: CFTC_CUMULATIVE_EQUITIES_2023_08_07.zip\n",
      "Extracted: CFTC_CUMULATIVE_EQUITIES_2023_08_07.zip to /home/mehedi/Documents/docker_influxdb/DTCC_data/extracted_files/Equities\n",
      "Downloaded: CFTC_CUMULATIVE_EQUITIES_2023_08_06.zip\n",
      "Extracted: CFTC_CUMULATIVE_EQUITIES_2023_08_06.zip to /home/mehedi/Documents/docker_influxdb/DTCC_data/extracted_files/Equities\n",
      "Downloaded: CFTC_CUMULATIVE_EQUITIES_2023_08_05.zip\n",
      "Extracted: CFTC_CUMULATIVE_EQUITIES_2023_08_05.zip to /home/mehedi/Documents/docker_influxdb/DTCC_data/extracted_files/Equities\n",
      "Downloaded: CFTC_CUMULATIVE_EQUITIES_2023_08_04.zip\n",
      "Extracted: CFTC_CUMULATIVE_EQUITIES_2023_08_04.zip to /home/mehedi/Documents/docker_influxdb/DTCC_data/extracted_files/Equities\n",
      "Downloaded: CFTC_CUMULATIVE_EQUITIES_2023_08_03.zip\n",
      "Extracted: CFTC_CUMULATIVE_EQUITIES_2023_08_03.zip to /home/mehedi/Documents/docker_influxdb/DTCC_data/extracted_files/Equities\n",
      "Downloaded: CFTC_CUMULATIVE_EQUITIES_2023_08_02.zip\n",
      "Extracted: CFTC_CUMULATIVE_EQUITIES_2023_08_02.zip to /home/mehedi/Documents/docker_influxdb/DTCC_data/extracted_files/Equities\n",
      "Downloaded: CFTC_CUMULATIVE_EQUITIES_2023_08_01.zip\n",
      "Extracted: CFTC_CUMULATIVE_EQUITIES_2023_08_01.zip to /home/mehedi/Documents/docker_influxdb/DTCC_data/extracted_files/Equities\n",
      "Downloaded: CFTC_CUMULATIVE_EQUITIES_2023_07_31.zip\n",
      "Extracted: CFTC_CUMULATIVE_EQUITIES_2023_07_31.zip to /home/mehedi/Documents/docker_influxdb/DTCC_data/extracted_files/Equities\n",
      "Downloaded: CFTC_CUMULATIVE_EQUITIES_2023_07_30.zip\n",
      "Extracted: CFTC_CUMULATIVE_EQUITIES_2023_07_30.zip to /home/mehedi/Documents/docker_influxdb/DTCC_data/extracted_files/Equities\n",
      "Downloaded: CFTC_CUMULATIVE_EQUITIES_2023_07_29.zip\n",
      "Extracted: CFTC_CUMULATIVE_EQUITIES_2023_07_29.zip to /home/mehedi/Documents/docker_influxdb/DTCC_data/extracted_files/Equities\n",
      "Downloaded: CFTC_CUMULATIVE_EQUITIES_2023_07_28.zip\n",
      "Extracted: CFTC_CUMULATIVE_EQUITIES_2023_07_28.zip to /home/mehedi/Documents/docker_influxdb/DTCC_data/extracted_files/Equities\n",
      "Downloaded: CFTC_CUMULATIVE_EQUITIES_2023_07_27.zip\n",
      "Extracted: CFTC_CUMULATIVE_EQUITIES_2023_07_27.zip to /home/mehedi/Documents/docker_influxdb/DTCC_data/extracted_files/Equities\n",
      "Downloaded: CFTC_CUMULATIVE_EQUITIES_2023_07_26.zip\n",
      "Extracted: CFTC_CUMULATIVE_EQUITIES_2023_07_26.zip to /home/mehedi/Documents/docker_influxdb/DTCC_data/extracted_files/Equities\n",
      "Downloaded: CFTC_CUMULATIVE_EQUITIES_2023_07_25.zip\n",
      "Extracted: CFTC_CUMULATIVE_EQUITIES_2023_07_25.zip to /home/mehedi/Documents/docker_influxdb/DTCC_data/extracted_files/Equities\n",
      "Downloaded: CFTC_CUMULATIVE_EQUITIES_2023_07_24.zip\n",
      "Extracted: CFTC_CUMULATIVE_EQUITIES_2023_07_24.zip to /home/mehedi/Documents/docker_influxdb/DTCC_data/extracted_files/Equities\n",
      "Downloaded: CFTC_CUMULATIVE_EQUITIES_2023_07_23.zip\n",
      "Extracted: CFTC_CUMULATIVE_EQUITIES_2023_07_23.zip to /home/mehedi/Documents/docker_influxdb/DTCC_data/extracted_files/Equities\n",
      "Downloaded: CFTC_CUMULATIVE_EQUITIES_2023_07_22.zip\n",
      "Extracted: CFTC_CUMULATIVE_EQUITIES_2023_07_22.zip to /home/mehedi/Documents/docker_influxdb/DTCC_data/extracted_files/Equities\n",
      "Downloaded: CFTC_CUMULATIVE_EQUITIES_2023_07_21.zip\n",
      "Extracted: CFTC_CUMULATIVE_EQUITIES_2023_07_21.zip to /home/mehedi/Documents/docker_influxdb/DTCC_data/extracted_files/Equities\n",
      "Downloaded: CFTC_CUMULATIVE_EQUITIES_2023_07_20.zip\n",
      "Extracted: CFTC_CUMULATIVE_EQUITIES_2023_07_20.zip to /home/mehedi/Documents/docker_influxdb/DTCC_data/extracted_files/Equities\n",
      "Downloaded: CFTC_CUMULATIVE_EQUITIES_2023_07_19.zip\n",
      "Extracted: CFTC_CUMULATIVE_EQUITIES_2023_07_19.zip to /home/mehedi/Documents/docker_influxdb/DTCC_data/extracted_files/Equities\n",
      "Downloaded: CFTC_CUMULATIVE_EQUITIES_2023_07_18.zip\n",
      "Extracted: CFTC_CUMULATIVE_EQUITIES_2023_07_18.zip to /home/mehedi/Documents/docker_influxdb/DTCC_data/extracted_files/Equities\n",
      "Downloaded: CFTC_CUMULATIVE_EQUITIES_2023_07_17.zip\n",
      "Extracted: CFTC_CUMULATIVE_EQUITIES_2023_07_17.zip to /home/mehedi/Documents/docker_influxdb/DTCC_data/extracted_files/Equities\n",
      "No more new files available for Equities. Exiting loop.\n",
      "Downloaded: CFTC_CUMULATIVE_FOREX_2023_08_15.zip\n",
      "Extracted: CFTC_CUMULATIVE_FOREX_2023_08_15.zip to /home/mehedi/Documents/docker_influxdb/DTCC_data/extracted_files/Forex\n",
      "Downloaded: CFTC_CUMULATIVE_FOREX_2023_08_14.zip\n",
      "Extracted: CFTC_CUMULATIVE_FOREX_2023_08_14.zip to /home/mehedi/Documents/docker_influxdb/DTCC_data/extracted_files/Forex\n",
      "Downloaded: CFTC_CUMULATIVE_FOREX_2023_08_13.zip\n",
      "Extracted: CFTC_CUMULATIVE_FOREX_2023_08_13.zip to /home/mehedi/Documents/docker_influxdb/DTCC_data/extracted_files/Forex\n",
      "Downloaded: CFTC_CUMULATIVE_FOREX_2023_08_12.zip\n",
      "Extracted: CFTC_CUMULATIVE_FOREX_2023_08_12.zip to /home/mehedi/Documents/docker_influxdb/DTCC_data/extracted_files/Forex\n",
      "Downloaded: CFTC_CUMULATIVE_FOREX_2023_08_11.zip\n",
      "Extracted: CFTC_CUMULATIVE_FOREX_2023_08_11.zip to /home/mehedi/Documents/docker_influxdb/DTCC_data/extracted_files/Forex\n",
      "Downloaded: CFTC_CUMULATIVE_FOREX_2023_08_10.zip\n",
      "Extracted: CFTC_CUMULATIVE_FOREX_2023_08_10.zip to /home/mehedi/Documents/docker_influxdb/DTCC_data/extracted_files/Forex\n",
      "Downloaded: CFTC_CUMULATIVE_FOREX_2023_08_09.zip\n",
      "Extracted: CFTC_CUMULATIVE_FOREX_2023_08_09.zip to /home/mehedi/Documents/docker_influxdb/DTCC_data/extracted_files/Forex\n",
      "Downloaded: CFTC_CUMULATIVE_FOREX_2023_08_08.zip\n",
      "Extracted: CFTC_CUMULATIVE_FOREX_2023_08_08.zip to /home/mehedi/Documents/docker_influxdb/DTCC_data/extracted_files/Forex\n",
      "Downloaded: CFTC_CUMULATIVE_FOREX_2023_08_07.zip\n",
      "Extracted: CFTC_CUMULATIVE_FOREX_2023_08_07.zip to /home/mehedi/Documents/docker_influxdb/DTCC_data/extracted_files/Forex\n",
      "Downloaded: CFTC_CUMULATIVE_FOREX_2023_08_06.zip\n",
      "Extracted: CFTC_CUMULATIVE_FOREX_2023_08_06.zip to /home/mehedi/Documents/docker_influxdb/DTCC_data/extracted_files/Forex\n",
      "Downloaded: CFTC_CUMULATIVE_FOREX_2023_08_05.zip\n",
      "Extracted: CFTC_CUMULATIVE_FOREX_2023_08_05.zip to /home/mehedi/Documents/docker_influxdb/DTCC_data/extracted_files/Forex\n",
      "Downloaded: CFTC_CUMULATIVE_FOREX_2023_08_04.zip\n",
      "Extracted: CFTC_CUMULATIVE_FOREX_2023_08_04.zip to /home/mehedi/Documents/docker_influxdb/DTCC_data/extracted_files/Forex\n",
      "Downloaded: CFTC_CUMULATIVE_FOREX_2023_08_03.zip\n",
      "Extracted: CFTC_CUMULATIVE_FOREX_2023_08_03.zip to /home/mehedi/Documents/docker_influxdb/DTCC_data/extracted_files/Forex\n",
      "Downloaded: CFTC_CUMULATIVE_FOREX_2023_08_02.zip\n",
      "Extracted: CFTC_CUMULATIVE_FOREX_2023_08_02.zip to /home/mehedi/Documents/docker_influxdb/DTCC_data/extracted_files/Forex\n",
      "Downloaded: CFTC_CUMULATIVE_FOREX_2023_08_01.zip\n",
      "Extracted: CFTC_CUMULATIVE_FOREX_2023_08_01.zip to /home/mehedi/Documents/docker_influxdb/DTCC_data/extracted_files/Forex\n",
      "Downloaded: CFTC_CUMULATIVE_FOREX_2023_07_31.zip\n",
      "Extracted: CFTC_CUMULATIVE_FOREX_2023_07_31.zip to /home/mehedi/Documents/docker_influxdb/DTCC_data/extracted_files/Forex\n",
      "Downloaded: CFTC_CUMULATIVE_FOREX_2023_07_30.zip\n",
      "Extracted: CFTC_CUMULATIVE_FOREX_2023_07_30.zip to /home/mehedi/Documents/docker_influxdb/DTCC_data/extracted_files/Forex\n",
      "Downloaded: CFTC_CUMULATIVE_FOREX_2023_07_29.zip\n",
      "Extracted: CFTC_CUMULATIVE_FOREX_2023_07_29.zip to /home/mehedi/Documents/docker_influxdb/DTCC_data/extracted_files/Forex\n",
      "Downloaded: CFTC_CUMULATIVE_FOREX_2023_07_28.zip\n",
      "Extracted: CFTC_CUMULATIVE_FOREX_2023_07_28.zip to /home/mehedi/Documents/docker_influxdb/DTCC_data/extracted_files/Forex\n",
      "Downloaded: CFTC_CUMULATIVE_FOREX_2023_07_27.zip\n",
      "Extracted: CFTC_CUMULATIVE_FOREX_2023_07_27.zip to /home/mehedi/Documents/docker_influxdb/DTCC_data/extracted_files/Forex\n",
      "Downloaded: CFTC_CUMULATIVE_FOREX_2023_07_26.zip\n",
      "Extracted: CFTC_CUMULATIVE_FOREX_2023_07_26.zip to /home/mehedi/Documents/docker_influxdb/DTCC_data/extracted_files/Forex\n",
      "Downloaded: CFTC_CUMULATIVE_FOREX_2023_07_25.zip\n",
      "Extracted: CFTC_CUMULATIVE_FOREX_2023_07_25.zip to /home/mehedi/Documents/docker_influxdb/DTCC_data/extracted_files/Forex\n",
      "Downloaded: CFTC_CUMULATIVE_FOREX_2023_07_24.zip\n",
      "Extracted: CFTC_CUMULATIVE_FOREX_2023_07_24.zip to /home/mehedi/Documents/docker_influxdb/DTCC_data/extracted_files/Forex\n",
      "Downloaded: CFTC_CUMULATIVE_FOREX_2023_07_23.zip\n",
      "Extracted: CFTC_CUMULATIVE_FOREX_2023_07_23.zip to /home/mehedi/Documents/docker_influxdb/DTCC_data/extracted_files/Forex\n",
      "Downloaded: CFTC_CUMULATIVE_FOREX_2023_07_22.zip\n",
      "Extracted: CFTC_CUMULATIVE_FOREX_2023_07_22.zip to /home/mehedi/Documents/docker_influxdb/DTCC_data/extracted_files/Forex\n",
      "Downloaded: CFTC_CUMULATIVE_FOREX_2023_07_21.zip\n",
      "Extracted: CFTC_CUMULATIVE_FOREX_2023_07_21.zip to /home/mehedi/Documents/docker_influxdb/DTCC_data/extracted_files/Forex\n",
      "Downloaded: CFTC_CUMULATIVE_FOREX_2023_07_20.zip\n",
      "Extracted: CFTC_CUMULATIVE_FOREX_2023_07_20.zip to /home/mehedi/Documents/docker_influxdb/DTCC_data/extracted_files/Forex\n",
      "Downloaded: CFTC_CUMULATIVE_FOREX_2023_07_19.zip\n",
      "Extracted: CFTC_CUMULATIVE_FOREX_2023_07_19.zip to /home/mehedi/Documents/docker_influxdb/DTCC_data/extracted_files/Forex\n",
      "Downloaded: CFTC_CUMULATIVE_FOREX_2023_07_18.zip\n",
      "Extracted: CFTC_CUMULATIVE_FOREX_2023_07_18.zip to /home/mehedi/Documents/docker_influxdb/DTCC_data/extracted_files/Forex\n",
      "Downloaded: CFTC_CUMULATIVE_FOREX_2023_07_17.zip\n",
      "Extracted: CFTC_CUMULATIVE_FOREX_2023_07_17.zip to /home/mehedi/Documents/docker_influxdb/DTCC_data/extracted_files/Forex\n",
      "Downloaded: CFTC_CUMULATIVE_FOREX_2023_07_16.zip\n",
      "Extracted: CFTC_CUMULATIVE_FOREX_2023_07_16.zip to /home/mehedi/Documents/docker_influxdb/DTCC_data/extracted_files/Forex\n",
      "No more new files available for Forex. Exiting loop.\n"
     ]
    }
   ],
   "source": [
    "for asset in assets:\n",
    "    asset_folder = os.path.join(extract_folder, asset)\n",
    "    f.data_downloader(asset,download_folder=download_folder,extract_folder=asset_folder)"
   ]
  },
  {
   "cell_type": "code",
   "execution_count": 3,
   "metadata": {},
   "outputs": [],
   "source": [
    "database_name='test_db'\n",
    "collection_name = 'bag'\n",
    "folder_path = '/home/mehedi/Documents/docker_influxdb/DTCC_data/extracted_files/Forex'"
   ]
  },
  {
   "cell_type": "code",
   "execution_count": 4,
   "metadata": {},
   "outputs": [
    {
     "name": "stdout",
     "output_type": "stream",
     "text": [
      "CFTC_CUMULATIVE_FOREX_2023_08_03.csv\n"
     ]
    },
    {
     "name": "stderr",
     "output_type": "stream",
     "text": [
      "/home/mehedi/Documents/docker_influxdb/DTCC_data/function.py:194: DtypeWarning: Columns (33,39,40,43,76,100,107) have mixed types. Specify dtype option on import or set low_memory=False.\n",
      "  df = pd.read_csv(file_path)\n",
      "/home/mehedi/Documents/docker_influxdb/DTCC_data/function.py:194: DtypeWarning: Columns (33,40,107) have mixed types. Specify dtype option on import or set low_memory=False.\n",
      "  df = pd.read_csv(file_path)\n"
     ]
    },
    {
     "name": "stdout",
     "output_type": "stream",
     "text": [
      "CFTC_CUMULATIVE_FOREX_2023_07_28.csv\n",
      "CFTC_CUMULATIVE_FOREX_2023_07_25.csv\n"
     ]
    },
    {
     "name": "stderr",
     "output_type": "stream",
     "text": [
      "/home/mehedi/Documents/docker_influxdb/DTCC_data/function.py:194: DtypeWarning: Columns (33) have mixed types. Specify dtype option on import or set low_memory=False.\n",
      "  df = pd.read_csv(file_path)\n",
      "/home/mehedi/Documents/docker_influxdb/DTCC_data/function.py:194: DtypeWarning: Columns (16,33,39,40,43,62,69,72,73,92,103,107) have mixed types. Specify dtype option on import or set low_memory=False.\n",
      "  df = pd.read_csv(file_path)\n"
     ]
    },
    {
     "name": "stdout",
     "output_type": "stream",
     "text": [
      "CFTC_CUMULATIVE_FOREX_2023_08_09.csv\n",
      "CFTC_CUMULATIVE_FOREX_2023_07_24.csv\n"
     ]
    },
    {
     "name": "stderr",
     "output_type": "stream",
     "text": [
      "/home/mehedi/Documents/docker_influxdb/DTCC_data/function.py:194: DtypeWarning: Columns (16,40,62,92,100,107) have mixed types. Specify dtype option on import or set low_memory=False.\n",
      "  df = pd.read_csv(file_path)\n",
      "/home/mehedi/Documents/docker_influxdb/DTCC_data/function.py:194: DtypeWarning: Columns (16,33,40,62,72,92) have mixed types. Specify dtype option on import or set low_memory=False.\n",
      "  df = pd.read_csv(file_path)\n"
     ]
    },
    {
     "name": "stdout",
     "output_type": "stream",
     "text": [
      "CFTC_CUMULATIVE_FOREX_2023_08_12.csv\n",
      "CFTC_CUMULATIVE_FOREX_2023_08_07.csv\n",
      "CFTC_CUMULATIVE_FOREX_2023_08_04.csv\n"
     ]
    },
    {
     "name": "stderr",
     "output_type": "stream",
     "text": [
      "/home/mehedi/Documents/docker_influxdb/DTCC_data/function.py:194: DtypeWarning: Columns (33,39,40,43,100) have mixed types. Specify dtype option on import or set low_memory=False.\n",
      "  df = pd.read_csv(file_path)\n",
      "/home/mehedi/Documents/docker_influxdb/DTCC_data/function.py:194: DtypeWarning: Columns (9,17,33,39,40,100) have mixed types. Specify dtype option on import or set low_memory=False.\n",
      "  df = pd.read_csv(file_path)\n"
     ]
    },
    {
     "name": "stdout",
     "output_type": "stream",
     "text": [
      "CFTC_CUMULATIVE_FOREX_2023_07_26.csv\n",
      "CFTC_CUMULATIVE_FOREX_2023_07_29.csv\n",
      "CFTC_CUMULATIVE_FOREX_2023_07_23.csv\n",
      "CFTC_CUMULATIVE_FOREX_2023_08_01.csv\n"
     ]
    },
    {
     "name": "stderr",
     "output_type": "stream",
     "text": [
      "/home/mehedi/Documents/docker_influxdb/DTCC_data/function.py:194: DtypeWarning: Columns (40,107) have mixed types. Specify dtype option on import or set low_memory=False.\n",
      "  df = pd.read_csv(file_path)\n",
      "/home/mehedi/Documents/docker_influxdb/DTCC_data/function.py:194: DtypeWarning: Columns (40) have mixed types. Specify dtype option on import or set low_memory=False.\n",
      "  df = pd.read_csv(file_path)\n"
     ]
    },
    {
     "name": "stdout",
     "output_type": "stream",
     "text": [
      "CFTC_CUMULATIVE_FOREX_2023_08_05.csv\n",
      "CFTC_CUMULATIVE_FOREX_2023_07_20.csv\n",
      "CFTC_CUMULATIVE_FOREX_2023_07_30.csv\n",
      "CFTC_CUMULATIVE_FOREX_2023_08_06.csv\n",
      "CFTC_CUMULATIVE_FOREX_2023_08_15.csv\n"
     ]
    },
    {
     "name": "stderr",
     "output_type": "stream",
     "text": [
      "/home/mehedi/Documents/docker_influxdb/DTCC_data/function.py:194: DtypeWarning: Columns (33,69,72,73,108) have mixed types. Specify dtype option on import or set low_memory=False.\n",
      "  df = pd.read_csv(file_path)\n",
      "/home/mehedi/Documents/docker_influxdb/DTCC_data/function.py:194: DtypeWarning: Columns (33,37,38,40,69,72,73,100,107) have mixed types. Specify dtype option on import or set low_memory=False.\n",
      "  df = pd.read_csv(file_path)\n"
     ]
    },
    {
     "name": "stdout",
     "output_type": "stream",
     "text": [
      "CFTC_CUMULATIVE_FOREX_2023_08_10.csv\n",
      "CFTC_CUMULATIVE_FOREX_2023_08_08.csv\n"
     ]
    },
    {
     "name": "stderr",
     "output_type": "stream",
     "text": [
      "/home/mehedi/Documents/docker_influxdb/DTCC_data/function.py:194: DtypeWarning: Columns (40) have mixed types. Specify dtype option on import or set low_memory=False.\n",
      "  df = pd.read_csv(file_path)\n",
      "/home/mehedi/Documents/docker_influxdb/DTCC_data/function.py:194: DtypeWarning: Columns (33,39,40,69,72,73,100) have mixed types. Specify dtype option on import or set low_memory=False.\n",
      "  df = pd.read_csv(file_path)\n"
     ]
    },
    {
     "name": "stdout",
     "output_type": "stream",
     "text": [
      "CFTC_CUMULATIVE_FOREX_2023_07_17.csv\n",
      "CFTC_CUMULATIVE_FOREX_2023_07_16.csv\n"
     ]
    },
    {
     "name": "stderr",
     "output_type": "stream",
     "text": [
      "/home/mehedi/Documents/docker_influxdb/DTCC_data/function.py:194: DtypeWarning: Columns (35,36,40,85,86,105) have mixed types. Specify dtype option on import or set low_memory=False.\n",
      "  df = pd.read_csv(file_path)\n",
      "/home/mehedi/Documents/docker_influxdb/DTCC_data/function.py:194: DtypeWarning: Columns (33,39,40,43,69,100) have mixed types. Specify dtype option on import or set low_memory=False.\n",
      "  df = pd.read_csv(file_path)\n"
     ]
    },
    {
     "name": "stdout",
     "output_type": "stream",
     "text": [
      "CFTC_CUMULATIVE_FOREX_2023_07_21.csv\n",
      "CFTC_CUMULATIVE_FOREX_2023_07_31.csv\n"
     ]
    },
    {
     "name": "stderr",
     "output_type": "stream",
     "text": [
      "/home/mehedi/Documents/docker_influxdb/DTCC_data/function.py:194: DtypeWarning: Columns (9,16,17,33,39,40,43,62,92,100,103,108) have mixed types. Specify dtype option on import or set low_memory=False.\n",
      "  df = pd.read_csv(file_path)\n",
      "/home/mehedi/Documents/docker_influxdb/DTCC_data/function.py:194: DtypeWarning: Columns (16,40,44,62,92,100,107) have mixed types. Specify dtype option on import or set low_memory=False.\n",
      "  df = pd.read_csv(file_path)\n"
     ]
    },
    {
     "name": "stdout",
     "output_type": "stream",
     "text": [
      "CFTC_CUMULATIVE_FOREX_2023_07_18.csv\n",
      "CFTC_CUMULATIVE_FOREX_2023_08_13.csv\n",
      "CFTC_CUMULATIVE_FOREX_2023_07_27.csv\n"
     ]
    },
    {
     "name": "stderr",
     "output_type": "stream",
     "text": [
      "/home/mehedi/Documents/docker_influxdb/DTCC_data/function.py:194: DtypeWarning: Columns (40,69,73) have mixed types. Specify dtype option on import or set low_memory=False.\n",
      "  df = pd.read_csv(file_path)\n",
      "/home/mehedi/Documents/docker_influxdb/DTCC_data/function.py:194: DtypeWarning: Columns (40,44,107) have mixed types. Specify dtype option on import or set low_memory=False.\n",
      "  df = pd.read_csv(file_path)\n"
     ]
    },
    {
     "name": "stdout",
     "output_type": "stream",
     "text": [
      "CFTC_CUMULATIVE_FOREX_2023_07_19.csv\n",
      "CFTC_CUMULATIVE_FOREX_2023_08_02.csv\n"
     ]
    },
    {
     "name": "stderr",
     "output_type": "stream",
     "text": [
      "/home/mehedi/Documents/docker_influxdb/DTCC_data/function.py:194: DtypeWarning: Columns (9,13,14,16,17,33,34,35,36,39,40,41,42,43,44,45,46,49,52,53,60,61,62,68,69,72,73,76,85,86,88,89,90,92,100,101,102,103,104,105,107,108) have mixed types. Specify dtype option on import or set low_memory=False.\n",
      "  df = pd.read_csv(file_path)\n"
     ]
    },
    {
     "name": "stdout",
     "output_type": "stream",
     "text": [
      "CFTC_CUMULATIVE_FOREX_2023_08_14.csv\n",
      "CFTC_CUMULATIVE_FOREX_2023_08_11.csv\n"
     ]
    },
    {
     "name": "stderr",
     "output_type": "stream",
     "text": [
      "/home/mehedi/Documents/docker_influxdb/DTCC_data/function.py:194: DtypeWarning: Columns (14,16,33,34,39,40,60,62,69,72,73,90,92,100,104,105,108) have mixed types. Specify dtype option on import or set low_memory=False.\n",
      "  df = pd.read_csv(file_path)\n",
      "/home/mehedi/Documents/docker_influxdb/DTCC_data/function.py:194: DtypeWarning: Columns (33,40,100) have mixed types. Specify dtype option on import or set low_memory=False.\n",
      "  df = pd.read_csv(file_path)\n"
     ]
    },
    {
     "name": "stdout",
     "output_type": "stream",
     "text": [
      "CFTC_CUMULATIVE_FOREX_2023_07_22.csv\n"
     ]
    }
   ],
   "source": [
    "processed_files = set()  # Initialize an empty set to store processed filenames\n",
    "resulting_dataframes, processed_files = f.read_csvs_with_dates(folder_path, processed_files)\n",
    "for df in resulting_dataframes:\n",
    "    f.insert_dataframe_to_mongodb(df,  database_name,collection_name )"
   ]
  }
 ],
 "metadata": {
  "kernelspec": {
   "display_name": "qs",
   "language": "python",
   "name": "python3"
  },
  "language_info": {
   "codemirror_mode": {
    "name": "ipython",
    "version": 3
   },
   "file_extension": ".py",
   "mimetype": "text/x-python",
   "name": "python",
   "nbconvert_exporter": "python",
   "pygments_lexer": "ipython3",
   "version": "3.10.12"
  },
  "orig_nbformat": 4
 },
 "nbformat": 4,
 "nbformat_minor": 2
}
